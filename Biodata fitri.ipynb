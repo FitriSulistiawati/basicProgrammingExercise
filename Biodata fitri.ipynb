{
 "cells": [
  {
   "cell_type": "code",
   "execution_count": 2,
   "id": "8d124dd5",
   "metadata": {},
   "outputs": [
    {
     "name": "stdout",
     "output_type": "stream",
     "text": [
      "fitrisulistiawati (18) dari =  BOJONGGENTENG kata mutiara= tak apa jalan dengan lambat, asalkan jangan pernah berhenti\n",
      "tipe dari nama depan =  <class 'str'>\n",
      "tipe dari usia =  <class 'str'>\n",
      "tipe dari alamat =  <class 'str'>\n",
      "tipe dari kata_mutiara =  <class 'str'>\n"
     ]
    }
   ],
   "source": [
    "nama_depan = \"fitri\"\n",
    "nama_belakang = \"sulistiawati\"\n",
    "nama_lengkap = nama_depan + '' + nama_belakang\n",
    "usia = \"18\"\n",
    "alamat = \"BOJONGGENTENG\"\n",
    "kata_mutiara = \"tak apa jalan dengan lambat, asalkan jangan pernah berhenti\"\n",
    "\n",
    "print(nama_lengkap,'(' + usia + ')',\"dari = \",alamat,'kata mutiara=',kata_mutiara)\n",
    "\n",
    "\n",
    "print(\"tipe dari nama depan = \", type(nama_depan))\n",
    "print(\"tipe dari usia = \", type(usia))\n",
    "print(\"tipe dari alamat = \", type(alamat))\n",
    "print(\"tipe dari kata_mutiara = \", type(kata_mutiara))\n"
   ]
  }
 ],
 "metadata": {
  "kernelspec": {
   "display_name": "Python 3 (ipykernel)",
   "language": "python",
   "name": "python3"
  },
  "language_info": {
   "codemirror_mode": {
    "name": "ipython",
    "version": 3
   },
   "file_extension": ".py",
   "mimetype": "text/x-python",
   "name": "python",
   "nbconvert_exporter": "python",
   "pygments_lexer": "ipython3",
   "version": "3.9.12"
  }
 },
 "nbformat": 4,
 "nbformat_minor": 5
}
